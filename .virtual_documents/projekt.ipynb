import pandas as pd
import tensorflow as tf
import numpy as np
import matplotlib.pyplot as plt
import seaborn as sns

from tensorflow.keras.utils import to_categorical
from tensorflow.keras.models import Model , Sequential
from tensorflow.keras.layers import Dropout , Dense , InputLayer , Input

from keras_tqdm import TQDMNotebookCallback

from sklearn.model_selection import train_test_split
from sklearn.preprocessing import StandardScaler





import tensorflow as tf
print(tf.__version__)


df = pd.read_csv("liver_cirrhosis.csv")
df2 = df.copy()
df.head()


df.info()


df.isna().sum()


df["Stage"].value_counts()





























df.columns





columns = list(df.columns[1:3]) + list(df.columns[4:9])
columns


# tu będzie funckja która będzie cały nasz zbiór od razu przekształacała wszystkie stringi na liczby (Już stworzyłem)
def change_values(columns , dataframe):

    for column in columns:
        unique_values = dataframe[column].unique()
        dic = {d: k for k, d in enumerate(unique_values)} 
        print(column)
        print(dic)
        dataframe[column] = dataframe[column].replace(dic)

change_values(columns = columns , dataframe = df2)


df2['Status'].value_counts()


status_dic = {'C' : 0 , "D" : 1 , "CL" : 2}
df2['Status'] = df2['Status'].replace(status_dic)





df2['Drug'].value_counts()


drug_dic = {'Placebo' : 0 , "D-penicillamine" : 1}
df2['Drug'] = df2['Drug'].replace(drug_dic)





df2['Sex'].value_counts()


unique = df2['Sex'].unique()
unique[0]


dic = {d: k for k, d in enumerate(unique)} 
df2["Sex"] = df2['Sex'].replace(dic)


df2.info()


df2.Edema.value_counts()


df2





std = StandardScaler()
df_transformed = std.fit_transform(df2)






y = df2["Stage"]
X = df2.drop(columns="Stage")


y


X





X_train , X_test , y_train , y_test = train_test_split(X , y , test_size=0.2 , random_state=411 , shuffle=True)


X_train.shape ,X_test.shape , y_train.shape, y_test.shape


X_train = X_train.astype("float32") / 255
X_test = X_test.astype("float32") / 255


X_train


y_train = to_categorical(y_train , num_classes=4)
y_test = to_categorical(y_test , num_classes=4)


y_train.shape


shape = (X_train.shape[1] , )
shape


num_classes = len(np.unique(y_train))
print(num_classes)





def build_model():
    
    model = Sequential()
    
    model.add(InputLayer(shape=shape))
    model.add(Dense(128 , activation="relu"))
    model.add(Dense(64 , activation="relu"))
    model.add(Dropout(0.2))
    model.add(Dense(4 , activation="softmax"))
    
    return model


model = build_model()
model.summary()


model.compile(optimizer=tf.keras.optimizers.Adam(learning_rate=0.01) , 
              loss = tf.keras.losses.CategoricalCrossentropy(),  
              metrics=["accuracy"])


# callbacks=[TQDMNotebookCallback()]
history = model.fit(x = X_train,
                   y = y_train ,
                   batch_size=X_train.shape[0],
                   epochs=25 ,
                   validation_split=0.2,
                   shuffle=True,
                   )


acc = history.history['accuracy']
val_acc = history.history['val_accuracy']
loss = history.history['loss']
val_loss = history.history['val_loss']
epochs = range(len(acc))


plt.figure(figsize=(12, 8))
plt.plot(epochs, acc, 'r', label='Training accuracy')
plt.plot(epochs, val_acc, 'b', label='Validation accuracy')
plt.title('Training and validation accuracy')
plt.legend()
plt.show()


plt.figure(figsize=(12, 8))
plt.plot(epochs, loss, 'r', label='Loss')
plt.plot(epochs, val_loss, 'b', label='Validation loss')
plt.title('Training and validation loss')
plt.legend()
plt.show()



