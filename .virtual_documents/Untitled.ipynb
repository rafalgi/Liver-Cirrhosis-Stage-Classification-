import pandas as pd
import tensorflow as tf
import numpy as np
import matplotlib.pyplot as plt
import seaborn as sns





df = pd.read_csv("liver_cirrhosis.csv")
df2 = df.copy()
df.head()


df.info()

















df.columns





# tu będzie funckja która będzie cały nasz zbiór od razu przekształacała wszystkie stringi na liczby
def change_values():
    pass


df2['Status'].value_counts()


df2["Status"] = df2["Status"].map(pd.get_dummies)
df2['Status'].value_counts()












